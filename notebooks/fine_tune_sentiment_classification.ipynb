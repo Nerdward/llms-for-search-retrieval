{
 "cells": [
  {
   "cell_type": "markdown",
   "metadata": {},
   "source": [
    "## Fine tuning classification with OpenAI"
   ]
  },
  {
   "cell_type": "code",
   "execution_count": 4,
   "metadata": {},
   "outputs": [
    {
     "name": "stderr",
     "output_type": "stream",
     "text": [
      "/opt/conda/envs/llms/lib/python3.10/site-packages/tqdm/auto.py:21: TqdmWarning: IProgress not found. Please update jupyter and ipywidgets. See https://ipywidgets.readthedocs.io/en/stable/user_install.html\n",
      "  from .autonotebook import tqdm as notebook_tqdm\n"
     ]
    }
   ],
   "source": [
    "import pandas as pd\n",
    "import openai \n",
    "import os\n",
    "from datasets import load_dataset\n",
    "import random\n",
    "import math\n",
    "import matplotlib.pyplot as plt\n",
    "import seaborn as sns\n",
    "import numpy as np\n",
    "from tqdm.auto import tqdm\n",
    "import math\n",
    "\n",
    "from dotenv import load_dotenv\n",
    "load_dotenv()\n",
    "\n",
    "openai.api_key = os.getenv(\"OPENAI_API_KEY\")\n",
    "\n",
    "SEED = 42\n",
    "\n",
    "random.seed(SEED)"
   ]
  },
  {
   "cell_type": "code",
   "execution_count": 4,
   "metadata": {},
   "outputs": [
    {
     "name": "stderr",
     "output_type": "stream",
     "text": [
      "Downloading builder script: 100%|██████████| 3.12k/3.12k [00:00<00:00, 9.52MB/s]\n",
      "Downloading metadata: 100%|██████████| 1.68k/1.68k [00:00<00:00, 10.5MB/s]\n",
      "Downloading readme: 100%|██████████| 5.35k/5.35k [00:00<00:00, 9.07MB/s]\n",
      "Downloading data: 42.6MB [00:00, 82.7MB/s]                            \n",
      "Generating train split: 100%|██████████| 288065/288065 [00:08<00:00, 35400.33 examples/s]\n",
      "Stringifying the column: 100%|██████████| 288065/288065 [00:00<00:00, 764545.68 examples/s] \n",
      "Casting to class labels: 100%|██████████| 288065/288065 [00:00<00:00, 349441.63 examples/s]\n"
     ]
    },
    {
     "data": {
      "text/plain": [
       "Dataset({\n",
       "    features: ['package_name', 'review', 'date', 'star'],\n",
       "    num_rows: 288065\n",
       "})"
      ]
     },
     "execution_count": 4,
     "metadata": {},
     "output_type": "execute_result"
    }
   ],
   "source": [
    "# 'star' is a column in our dataset and we want to convert it to a ClassLabel column\n",
    "# so we can stratify our samples.\n",
    "\n",
    "# Importing the ClassLabel module to represent categorical class labels\n",
    "from datasets import ClassLabel\n",
    "\n",
    "# Loading the 'app_reviews' dataset's training split into the 'dataset' variable\n",
    "dataset = load_dataset('app_reviews', split='train')\n",
    "\n",
    "# Converting the 'star' column in our dataset to a ClassLabel type\n",
    "# This allows for categorical representation and easier handling of classes\n",
    "dataset = dataset.class_encode_column('star')\n",
    "\n",
    "# Displaying the dataset to see the changes\n",
    "dataset"
   ]
  },
  {
   "cell_type": "code",
   "execution_count": 5,
   "metadata": {},
   "outputs": [
    {
     "data": {
      "text/plain": [
       "DatasetDict({\n",
       "    train: Dataset({\n",
       "        features: ['package_name', 'review', 'date', 'star'],\n",
       "        num_rows: 172839\n",
       "    })\n",
       "    test: Dataset({\n",
       "        features: ['package_name', 'review', 'date', 'star'],\n",
       "        num_rows: 57613\n",
       "    })\n",
       "    val: Dataset({\n",
       "        features: ['package_name', 'review', 'date', 'star'],\n",
       "        num_rows: 57613\n",
       "    })\n",
       "})"
      ]
     },
     "execution_count": 5,
     "metadata": {},
     "output_type": "execute_result"
    }
   ],
   "source": [
    "# Splitting the dataset into a training set and a test set.\n",
    "# We reserve 20% of the data for testing and use stratification on the 'star' column\n",
    "# to ensure both sets have an equal distribution of each star category.\n",
    "dataset = dataset.train_test_split(test_size=0.2, seed=SEED, stratify_by_column='star')\n",
    "\n",
    "# Now, we further split our training dataset to reserve 25% of it for validation.\n",
    "# Again, we stratify by the 'star' column to keep the distribution consistent.\n",
    "df = dataset['train'].train_test_split(test_size=.25, seed=SEED, stratify_by_column='star')\n",
    "\n",
    "# Assigning the split datasets to their respective keys:\n",
    "# - The remaining 75% of our initial training data becomes the new training dataset.\n",
    "dataset['train'] = df['train']\n",
    "\n",
    "# - The 25% split from our initial training data becomes the validation dataset.\n",
    "dataset['val'] = df['test']\n",
    "\n",
    "# Displaying the dataset to see the distribution across train, test, and validation sets.\n",
    "dataset"
   ]
  },
  {
   "cell_type": "code",
   "execution_count": 7,
   "metadata": {},
   "outputs": [
    {
     "data": {
      "text/plain": [
       "Dataset({\n",
       "    features: ['package_name', 'review', 'date', 'star'],\n",
       "    num_rows: 172839\n",
       "})"
      ]
     },
     "execution_count": 7,
     "metadata": {},
     "output_type": "execute_result"
    }
   ],
   "source": [
    "dataset['train']"
   ]
  },
  {
   "cell_type": "code",
   "execution_count": 6,
   "metadata": {},
   "outputs": [
    {
     "data": {
      "text/html": [
       "<div>\n",
       "<style scoped>\n",
       "    .dataframe tbody tr th:only-of-type {\n",
       "        vertical-align: middle;\n",
       "    }\n",
       "\n",
       "    .dataframe tbody tr th {\n",
       "        vertical-align: top;\n",
       "    }\n",
       "\n",
       "    .dataframe thead th {\n",
       "        text-align: right;\n",
       "    }\n",
       "</style>\n",
       "<table border=\"1\" class=\"dataframe\">\n",
       "  <thead>\n",
       "    <tr style=\"text-align: right;\">\n",
       "      <th></th>\n",
       "      <th>package_name</th>\n",
       "      <th>review</th>\n",
       "      <th>date</th>\n",
       "      <th>star</th>\n",
       "    </tr>\n",
       "  </thead>\n",
       "  <tbody>\n",
       "    <tr>\n",
       "      <th>0</th>\n",
       "      <td>org.ppsspp.ppsspp</td>\n",
       "      <td>Nice😉</td>\n",
       "      <td>March 09 2017</td>\n",
       "      <td>4</td>\n",
       "    </tr>\n",
       "    <tr>\n",
       "      <th>1</th>\n",
       "      <td>com.google.android.gms</td>\n",
       "      <td>Google play service Just one ward its amazing ...</td>\n",
       "      <td>December 18 2016</td>\n",
       "      <td>4</td>\n",
       "    </tr>\n",
       "    <tr>\n",
       "      <th>2</th>\n",
       "      <td>com.google.android.gms</td>\n",
       "      <td>Mr Perfect</td>\n",
       "      <td>April 30 2017</td>\n",
       "      <td>0</td>\n",
       "    </tr>\n",
       "    <tr>\n",
       "      <th>3</th>\n",
       "      <td>org.torproject.android</td>\n",
       "      <td>Does not work with Tmobile S4 If you try to in...</td>\n",
       "      <td>September 08 2016</td>\n",
       "      <td>0</td>\n",
       "    </tr>\n",
       "    <tr>\n",
       "      <th>4</th>\n",
       "      <td>com.google.android.gms</td>\n",
       "      <td>Ok</td>\n",
       "      <td>April 29 2017</td>\n",
       "      <td>2</td>\n",
       "    </tr>\n",
       "  </tbody>\n",
       "</table>\n",
       "</div>"
      ],
      "text/plain": [
       "             package_name                                             review  \\\n",
       "0       org.ppsspp.ppsspp                                              Nice😉   \n",
       "1  com.google.android.gms  Google play service Just one ward its amazing ...   \n",
       "2  com.google.android.gms                                         Mr Perfect   \n",
       "3  org.torproject.android  Does not work with Tmobile S4 If you try to in...   \n",
       "4  com.google.android.gms                                                 Ok   \n",
       "\n",
       "                date  star  \n",
       "0      March 09 2017     4  \n",
       "1   December 18 2016     4  \n",
       "2      April 30 2017     0  \n",
       "3  September 08 2016     0  \n",
       "4      April 29 2017     2  "
      ]
     },
     "execution_count": 6,
     "metadata": {},
     "output_type": "execute_result"
    }
   ],
   "source": [
    "# convert to pandas dataframe\n",
    "training_df = pd.DataFrame(dataset['train'])\n",
    "\n",
    "training_df.head()"
   ]
  },
  {
   "cell_type": "code",
   "execution_count": 8,
   "metadata": {},
   "outputs": [
    {
     "data": {
      "text/html": [
       "<div>\n",
       "<style scoped>\n",
       "    .dataframe tbody tr th:only-of-type {\n",
       "        vertical-align: middle;\n",
       "    }\n",
       "\n",
       "    .dataframe tbody tr th {\n",
       "        vertical-align: top;\n",
       "    }\n",
       "\n",
       "    .dataframe thead th {\n",
       "        text-align: right;\n",
       "    }\n",
       "</style>\n",
       "<table border=\"1\" class=\"dataframe\">\n",
       "  <thead>\n",
       "    <tr style=\"text-align: right;\">\n",
       "      <th></th>\n",
       "      <th>review</th>\n",
       "    </tr>\n",
       "  </thead>\n",
       "  <tbody>\n",
       "    <tr>\n",
       "      <th>171063</th>\n",
       "      <td>GREAT SOUND--SMALL SIZE--NO ADS Repeat and Shu...</td>\n",
       "    </tr>\n",
       "    <tr>\n",
       "      <th>93363</th>\n",
       "      <td>It is poor connbection</td>\n",
       "    </tr>\n",
       "    <tr>\n",
       "      <th>40388</th>\n",
       "      <td>Excellent work. Very useful. Works seamlessly ...</td>\n",
       "    </tr>\n",
       "    <tr>\n",
       "      <th>164565</th>\n",
       "      <td>Great complement to native voltage tracking</td>\n",
       "    </tr>\n",
       "    <tr>\n",
       "      <th>70450</th>\n",
       "      <td>Spettacolare Grandioso fa tutto quello che dev...</td>\n",
       "    </tr>\n",
       "  </tbody>\n",
       "</table>\n",
       "</div>"
      ],
      "text/plain": [
       "                                                   review\n",
       "171063  GREAT SOUND--SMALL SIZE--NO ADS Repeat and Shu...\n",
       "93363                              It is poor connbection\n",
       "40388   Excellent work. Very useful. Works seamlessly ...\n",
       "164565        Great complement to native voltage tracking\n",
       "70450   Spettacolare Grandioso fa tutto quello che dev..."
      ]
     },
     "execution_count": 8,
     "metadata": {},
     "output_type": "execute_result"
    }
   ],
   "source": [
    "training_df[['review']].sample(5)"
   ]
  },
  {
   "cell_type": "code",
   "execution_count": 9,
   "metadata": {},
   "outputs": [
    {
     "data": {
      "image/png": "[encoded data removed]",
      "text/plain": [
       "<Figure size 1000x600 with 1 Axes>"
      ]
     },
     "metadata": {},
     "output_type": "display_data"
    }
   ],
   "source": [
    "# Counting the number of occurrences for each 'star' value, sorting by index\n",
    "star_counts = training_df['star'].value_counts().sort_index()\n",
    "\n",
    "# Creating the bar plot to show distribution of star ratings given\n",
    "plt.figure(figsize=(10, 6))  # Setting a suitable figure size for better visibility\n",
    "star_counts.plot(kind='bar', color=sns.color_palette(\"coolwarm\", len(star_counts)))\n",
    "\n",
    "# Adding titles and labels for clarity\n",
    "plt.title('Distribution of Star Ratings in Training Data', fontsize=15)\n",
    "plt.xlabel('Star Rating', fontsize=12)\n",
    "plt.ylabel('Count', fontsize=12)\n",
    "plt.xticks(rotation=0)  # Ensure the x-axis labels are horizontal for better readability\n",
    "\n",
    "# Displaying the chart\n",
    "plt.show()"
   ]
  },
  {
   "cell_type": "code",
   "execution_count": 10,
   "metadata": {},
   "outputs": [],
   "source": [
    "test_df = pd.DataFrame(dataset['test'])\n",
    "val_df = pd.DataFrame(dataset['val'])"
   ]
  },
  {
   "cell_type": "markdown",
   "metadata": {},
   "source": [
    "### Sentiment Prediction (star column)"
   ]
  },
  {
   "cell_type": "code",
   "execution_count": 11,
   "metadata": {},
   "outputs": [],
   "source": [
    "# Creating the 'prompt' column in each dataset (training, validation, and test) by adding a separator '###\\n' to the 'review' column.\n",
    "# This separator is often used in fine-tuning to signal where the prompt ends and the expected output begins.\n",
    "training_df['prompt'] = training_df['review'] + '\\n###\\n'\n",
    "val_df['prompt'] = val_df['review'] + '\\n###\\n'\n",
    "test_df['prompt'] = test_df['review'] + '\\n###\\n'"
   ]
  },
  {
   "cell_type": "code",
   "execution_count": 14,
   "metadata": {},
   "outputs": [
    {
     "data": {
      "text/plain": [
       "0                                         Nice😉\\n###\\n\n",
       "1    Google play service Just one ward its amazing ...\n",
       "2                                    Mr Perfect\\n###\\n\n",
       "3    Does not work with Tmobile S4 If you try to in...\n",
       "4                                            Ok\\n###\\n\n",
       "Name: prompt, dtype: object"
      ]
     },
     "execution_count": 14,
     "metadata": {},
     "output_type": "execute_result"
    }
   ],
   "source": [
    "training_df['prompt'].head()"
   ]
  },
  {
   "cell_type": "code",
   "execution_count": 15,
   "metadata": {},
   "outputs": [],
   "source": [
    "# Converting the 'star' column in each dataset to a string format and storing it in the 'completion' column.\n",
    "# The 'completion' column will be used as the target variable for sentiment analysis.\n",
    "training_df['completion'] = training_df['star'].astype(str)  # for sentiment\n",
    "val_df['completion'] = val_df['star'].astype(str)  # for sentiment\n",
    "test_df['completion'] = test_df['star'].astype(str)  # for sentiment"
   ]
  },
  {
   "cell_type": "code",
   "execution_count": 16,
   "metadata": {},
   "outputs": [],
   "source": [
    "# Creating a training dataset in JSONL format after dropping duplicates based on the 'prompt' column.\n",
    "# Random sampling ensures the data is shuffled.\n",
    "training_df.sample(\n",
    "    len(training_df)\n",
    ").drop_duplicates(subset=['prompt'])[['prompt', 'completion']].to_json(\n",
    "    \"app-review-full-train-sentiment-random.jsonl\", orient='records', lines=True\n",
    ")"
   ]
  },
  {
   "cell_type": "code",
   "execution_count": 17,
   "metadata": {},
   "outputs": [],
   "source": [
    "# Creating another version of the training dataset in JSONL format, but this time ordering by 'completion' column (star ratings).\n",
    "# This ordered set might be useful for specific training strategies.\n",
    "training_df.sample(\n",
    "    len(training_df)\n",
    ").drop_duplicates(subset=['prompt'])[['prompt', 'completion']].sort_values('completion').to_json(\n",
    "    \"app-review-full-train-sentiment-ordered.jsonl\", orient='records', lines=True\n",
    ")"
   ]
  },
  {
   "cell_type": "code",
   "execution_count": 18,
   "metadata": {},
   "outputs": [],
   "source": [
    "# Creating a validation dataset in JSONL format after dropping duplicates based on the 'prompt' column.\n",
    "val_df.sample(\n",
    "    len(val_df)\n",
    ").drop_duplicates(subset=['prompt'])[['prompt', 'completion']].to_json(\n",
    "    \"app-review-full-val-sentiment-random.jsonl\", orient='records', lines=True\n",
    ")\n",
    "\n",
    "# Creating a test dataset in JSONL format after dropping duplicates based on the 'prompt' column.\n",
    "test_df.sample(\n",
    "    len(test_df)\n",
    ").drop_duplicates(subset=['prompt'])[['prompt', 'completion']].to_json(\n",
    "    \"app-review-full-test-sentiment-random.jsonl\", orient='records', lines=True\n",
    ")"
   ]
  },
  {
   "cell_type": "code",
   "execution_count": 19,
   "metadata": {},
   "outputs": [
    {
     "data": {
      "text/html": [
       "<div>\n",
       "<style scoped>\n",
       "    .dataframe tbody tr th:only-of-type {\n",
       "        vertical-align: middle;\n",
       "    }\n",
       "\n",
       "    .dataframe tbody tr th {\n",
       "        vertical-align: top;\n",
       "    }\n",
       "\n",
       "    .dataframe thead th {\n",
       "        text-align: right;\n",
       "    }\n",
       "</style>\n",
       "<table border=\"1\" class=\"dataframe\">\n",
       "  <thead>\n",
       "    <tr style=\"text-align: right;\">\n",
       "      <th></th>\n",
       "      <th>package_name</th>\n",
       "      <th>review</th>\n",
       "      <th>date</th>\n",
       "      <th>star</th>\n",
       "      <th>prompt</th>\n",
       "      <th>completion</th>\n",
       "    </tr>\n",
       "  </thead>\n",
       "  <tbody>\n",
       "    <tr>\n",
       "      <th>0</th>\n",
       "      <td>org.ppsspp.ppsspp</td>\n",
       "      <td>Nice😉</td>\n",
       "      <td>March 09 2017</td>\n",
       "      <td>4</td>\n",
       "      <td>Nice😉\\n###\\n</td>\n",
       "      <td>4</td>\n",
       "    </tr>\n",
       "    <tr>\n",
       "      <th>1</th>\n",
       "      <td>com.google.android.gms</td>\n",
       "      <td>Google play service Just one ward its amazing ...</td>\n",
       "      <td>December 18 2016</td>\n",
       "      <td>4</td>\n",
       "      <td>Google play service Just one ward its amazing ...</td>\n",
       "      <td>4</td>\n",
       "    </tr>\n",
       "    <tr>\n",
       "      <th>2</th>\n",
       "      <td>com.google.android.gms</td>\n",
       "      <td>Mr Perfect</td>\n",
       "      <td>April 30 2017</td>\n",
       "      <td>0</td>\n",
       "      <td>Mr Perfect\\n###\\n</td>\n",
       "      <td>0</td>\n",
       "    </tr>\n",
       "    <tr>\n",
       "      <th>3</th>\n",
       "      <td>org.torproject.android</td>\n",
       "      <td>Does not work with Tmobile S4 If you try to in...</td>\n",
       "      <td>September 08 2016</td>\n",
       "      <td>0</td>\n",
       "      <td>Does not work with Tmobile S4 If you try to in...</td>\n",
       "      <td>0</td>\n",
       "    </tr>\n",
       "    <tr>\n",
       "      <th>4</th>\n",
       "      <td>com.google.android.gms</td>\n",
       "      <td>Ok</td>\n",
       "      <td>April 29 2017</td>\n",
       "      <td>2</td>\n",
       "      <td>Ok\\n###\\n</td>\n",
       "      <td>2</td>\n",
       "    </tr>\n",
       "  </tbody>\n",
       "</table>\n",
       "</div>"
      ],
      "text/plain": [
       "             package_name                                             review  \\\n",
       "0       org.ppsspp.ppsspp                                              Nice😉   \n",
       "1  com.google.android.gms  Google play service Just one ward its amazing ...   \n",
       "2  com.google.android.gms                                         Mr Perfect   \n",
       "3  org.torproject.android  Does not work with Tmobile S4 If you try to in...   \n",
       "4  com.google.android.gms                                                 Ok   \n",
       "\n",
       "                date  star                                             prompt  \\\n",
       "0      March 09 2017     4                                       Nice😉\\n###\\n   \n",
       "1   December 18 2016     4  Google play service Just one ward its amazing ...   \n",
       "2      April 30 2017     0                                  Mr Perfect\\n###\\n   \n",
       "3  September 08 2016     0  Does not work with Tmobile S4 If you try to in...   \n",
       "4      April 29 2017     2                                          Ok\\n###\\n   \n",
       "\n",
       "  completion  \n",
       "0          4  \n",
       "1          4  \n",
       "2          0  \n",
       "3          0  \n",
       "4          2  "
      ]
     },
     "execution_count": 19,
     "metadata": {},
     "output_type": "execute_result"
    }
   ],
   "source": [
    "training_df.head()"
   ]
  },
  {
   "cell_type": "code",
   "execution_count": 20,
   "metadata": {},
   "outputs": [],
   "source": [
    "def get_data_dict(row, system=''):\n",
    "    return {\n",
    "        \"messages\": [\n",
    "            {\"role\": \"system\", \"content\": system},\n",
    "            {\"role\": \"user\", \"content\": row['review']},\n",
    "            {\"role\": \"assistant\", \"content\": str(row['star'])}\n",
    "        ]\n",
    "    }"
   ]
  },
  {
   "cell_type": "markdown",
   "metadata": {},
   "source": [
    "## Using OpenAI's Fine-tuning API"
   ]
  },
  {
   "cell_type": "code",
   "execution_count": 1,
   "metadata": {},
   "outputs": [],
   "source": [
    "import json"
   ]
  },
  {
   "cell_type": "code",
   "execution_count": 2,
   "metadata": {},
   "outputs": [
    {
     "data": {
      "text/plain": [
       "{'prompt': 'Excellent\\n###\\n', 'completion': '3'}"
      ]
     },
     "execution_count": 2,
     "metadata": {},
     "output_type": "execute_result"
    }
   ],
   "source": [
    "# reminder of what this data looks like\n",
    "json.loads(open(\"app-review-full-train-sentiment-random.jsonl\", \"rb\").readlines()[0])"
   ]
  },
  {
   "cell_type": "code",
   "execution_count": 5,
   "metadata": {},
   "outputs": [],
   "source": [
    "# Creating a file object for the training dataset with OpenAI's API.\n",
    "# The 'file' parameter specifies the path to the training data in JSONL format.\n",
    "# The 'purpose' is set to 'fine-tune', indicating the file's intended use.\n",
    "training_file = openai.File.create(\n",
    "  file=open(\"app-review-full-train-sentiment-random.jsonl\", \"rb\"),\n",
    "  purpose='fine-tune'\n",
    ")\n",
    "\n",
    "# Creating a file object for the validation dataset with OpenAI's API.\n",
    "val_file = openai.File.create(\n",
    "  file=open(\"app-review-full-val-sentiment-random.jsonl\", \"rb\"),\n",
    "  purpose='fine-tune'\n",
    ")"
   ]
  },
  {
   "cell_type": "code",
   "execution_count": null,
   "metadata": {},
   "outputs": [],
   "source": [
    "# Initiating the fine-tuning process with OpenAI's API.\n",
    "\n",
    "# The `openai.FineTuningJob.create` method is used to start the training.\n",
    "# Parameters include:\n",
    "# - `training_file`: The ID of the previously uploaded training dataset file.\n",
    "# - `validation_file`: The ID of the previously uploaded validation dataset file.\n",
    "# - `model`: The base model to be fine-tuned. In this case, \"babbage-002\" is chosen.\n",
    "# - `hyperparameters`: Dictionary containing training hyperparameters. Here, we specify the number of epochs as 1.\n",
    "job = openai.FineTuningJob.create(\n",
    "    training_file=training_file.id,\n",
    "    validation_file=val_file.id,\n",
    "    model=\"babbage-002\",\n",
    "    hyperparameters={'n_epochs': 1}\n",
    ")"
   ]
  },
  {
   "cell_type": "code",
   "execution_count": null,
   "metadata": {},
   "outputs": [],
   "source": [
    "# Retrieving details of an ongoing or completed fine-tuning job using OpenAI's API.\n",
    "\n",
    "# The `openai.FineTuningJob.retrieve` method fetches the job details based on its ID.\n",
    "# This can be used to monitor the progress, status, or retrieve results of the training job.\n",
    "job = openai.FineTuningJob.retrieve(job.id)"
   ]
  },
  {
   "cell_type": "code",
   "execution_count": null,
   "metadata": {},
   "outputs": [],
   "source": [
    "job"
   ]
  },
  {
   "cell_type": "code",
   "execution_count": null,
   "metadata": {},
   "outputs": [],
   "source": []
  },
  {
   "cell_type": "code",
   "execution_count": null,
   "metadata": {},
   "outputs": [],
   "source": []
  },
  {
   "cell_type": "code",
   "execution_count": null,
   "metadata": {},
   "outputs": [],
   "source": []
  },
  {
   "cell_type": "code",
   "execution_count": null,
   "metadata": {},
   "outputs": [],
   "source": []
  }
 ],
 "metadata": {
  "kernelspec": {
   "display_name": "llms",
   "language": "python",
   "name": "python3"
  },
  "language_info": {
   "codemirror_mode": {
    "name": "ipython",
    "version": 3
   },
   "file_extension": ".py",
   "mimetype": "text/x-python",
   "name": "python",
   "nbconvert_exporter": "python",
   "pygments_lexer": "ipython3",
   "version": "3.10.13"
  }
 },
 "nbformat": 4,
 "nbformat_minor": 2
}
